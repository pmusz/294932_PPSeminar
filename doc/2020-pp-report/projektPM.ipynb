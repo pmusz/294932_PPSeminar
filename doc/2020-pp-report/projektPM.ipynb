{
 "cells": [
  {
   "cell_type": "code",
   "execution_count": 71,
   "metadata": {},
   "outputs": [
    {
     "name": "stderr",
     "output_type": "stream",
     "text": [
      "usage: ipykernel_launcher.py [-h] [-d D] [-i I] [-c C] [-a A]\n",
      "ipykernel_launcher.py: error: unrecognized arguments: -f /home/pm/.local/share/jupyter/runtime/kernel-1b750c1b-cfc9-4b6f-9449-408ced05c4d9.json\n"
     ]
    },
    {
     "ename": "SystemExit",
     "evalue": "2",
     "output_type": "error",
     "traceback": [
      "An exception has occurred, use %tb to see the full traceback.\n",
      "\u001b[0;31mSystemExit\u001b[0m\u001b[0;31m:\u001b[0m 2\n"
     ]
    },
    {
     "name": "stderr",
     "output_type": "stream",
     "text": [
      "/home/pm/.local/lib/python3.6/site-packages/IPython/core/interactiveshell.py:3351: UserWarning: To exit: use 'exit', 'quit', or Ctrl-D.\n",
      "  warn(\"To exit: use 'exit', 'quit', or Ctrl-D.\", stacklevel=1)\n"
     ]
    }
   ],
   "source": [
    "# Author: Przemyslaw Musz\n",
    "# Nicolaus Copernicus University\n",
    "# Technical Physics\n",
    "\n",
    "import time as tm\n",
    "import argparse\n",
    "import mdshare\n",
    "import numpy as np\n",
    "from sklearn.manifold import TSNE\n",
    "from sklearn.decomposition import PCA\n",
    "import matplotlib.pyplot as mpl\n",
    "\n",
    "# Get initial timestamp\n",
    "start_tmstmp = tm.time()\n",
    "\n",
    "\n",
    "# Creating parser for command line args\n",
    "parser = argparse.ArgumentParser(description = 'Dimensionality reduction of tensor datasets.')\n",
    "\n",
    "parser.add_argument('-d', type = int, default = 500,\n",
    "                    help = 'Decimation ratio for reducing amount of input data (5..10000).')\n",
    "parser.add_argument('-i', type = str, default = 'alanine-dipeptide-3x250ns-heavy-atom-distances.npz',\n",
    "                    help = 'Input filename from molecular dynamics database on FU Berlin FTP server, otherwise a default example file will be used.')\n",
    "parser.add_argument('-c', type = str, default = 'ocean',\n",
    "                    help = 'Input name of desired colormap (ocean, viridis, gist_earth are supported).')\n",
    "parser.add_argument('-a', type = str, default = 'PCA',\n",
    "                   help = 'Input name of desired dimensionality reduction algorithm (PCA and TSNE are supported).')\n",
    "\n",
    "# Fetch variables from parser\n",
    "args = parser.parse_args()\n",
    "\n",
    "# Argument validation\n",
    "dec = args.d\n",
    "file = args.i;\n",
    "c = args.c\n",
    "algorithm = args.a\n",
    "\n",
    "# Parameters validation\n",
    "\n",
    "# Tuple for color maps\n",
    "cmaps = (\"ocean\",\"viridis\",\"gist_earth\")\n",
    "if c not in cmaps:\n",
    "    print('WARNING: colormap name not recognized; default colormap \\'ocean\\' will be used!')\n",
    "    c = 'ocean'\n",
    "\n",
    "# Checking decimation ratio\n",
    "if (dec < 5) or (dec > 10000):\n",
    "    dec = 500\n",
    "    print('WARNING: decimation ratio out of valid range; default value 500 will be used!')\n",
    "\n",
    "try:\n",
    "    # Downloading data from database\n",
    "    dataset = mdshare.fetch(file)\n",
    "    # Data stacking\n",
    "    with np.load(dataset) as f:\n",
    "        X = np.vstack([f[key] for key in sorted(f.keys())])\n",
    "        # Get timestamp for start of data processing\n",
    "        proc_start_tmstmp = tm.time()\n",
    "\n",
    "\n",
    "        if algorithm == 'TSNE':\n",
    "            # t-distributed Stochastic Neighbor Embedding\n",
    "            Y = TSNE(n_components = 3).fit_transform(X[::dec])\n",
    "        elif algorithm == 'PCA':\n",
    "            # Principal Component Analysis\n",
    "            Y = PCA(n_components = 3).fit_transform(X[::dec])\n",
    "        else:\n",
    "            print(\"ERROR: An error occured during selection of reduciton method. Exiting...\")\n",
    "            exit(-1)\n",
    "        \n",
    "        # Scaling data to desired range\n",
    "        Y[:, 0] = np.interp(Y[:, 0], (Y[:, 0].min(), Y[:, 0].max()), (-np.pi, np.pi)) \n",
    "        Y[:, 1] = np.interp(Y[:, 1], (Y[:, 1].min(), Y[:, 1].max()), (-np.pi, np.pi)) \n",
    "        Y[:, 2] = np.interp(Y[:, 2], (Y[:, 2].min(), Y[:, 2].max()), (-np.pi, np.pi)) \n",
    "        \n",
    "        # Get timestamp for end of data processing\n",
    "        proc_end_tmstmp = tm.time()\n",
    "\n",
    "        # Generating scatterplot \n",
    "        mpl.scatter(Y[:, 0], Y[:, 1], c = Y[:,2], s = 5, alpha = 0.6, cmap = c )\n",
    "        \n",
    "        # Axes limits\n",
    "        mpl.xlim(-np.pi, np.pi) \n",
    "        mpl.ylim(-np.pi, np.pi) \n",
    "        \n",
    "        # Axes ticks\n",
    "        mpl.xticks([-np.pi, 0, np.pi], ['-π', 0, 'π']) \n",
    "        mpl.yticks([-np.pi, 0, np.pi], ['-π', 0, 'π']) \n",
    "        \n",
    "        # Scaling plot area\n",
    "        mpl.axis('scaled')\n",
    "        \n",
    "        # Color legend drawing\n",
    "        legend = mpl.colorbar() \n",
    "        legend.set_ticks([-np.pi, 0, np.pi]) \n",
    "        legend.set_ticklabels(['-π', 0, 'π']) \n",
    "        \n",
    "        # Get final timestamp\n",
    "        end_tmstmp = tm.time()\n",
    "\n",
    "        # Print execution time info\n",
    "        time_elapsed_whole = end_tmstmp - start_tmstmp\n",
    "        time_elapsed_proc = proc_end_tmstmp - proc_start_tmstmp\n",
    "        percent = 100*(time_elapsed_proc / time_elapsed_whole)\n",
    "        print(\"Total time elapsed: {t:6.3f} seconds, {p:3.1f}% for data dimensionality reduction.\\n\".format(t = time_elapsed_whole, p = percent))\n",
    "         \n",
    "        # Showing scatterplot\n",
    "        mpl.show()\n",
    "        \n",
    "        print('Exitning...')\n",
    "\n",
    "\n",
    "except Exception as e:\n",
    "        print('Exitning due to errors:')\n",
    "        print(e)\n",
    "\n",
    "\n",
    "\n",
    "\n"
   ]
  },
  {
   "cell_type": "code",
   "execution_count": null,
   "metadata": {},
   "outputs": [],
   "source": []
  },
  {
   "cell_type": "code",
   "execution_count": null,
   "metadata": {},
   "outputs": [],
   "source": [
    " "
   ]
  },
  {
   "cell_type": "code",
   "execution_count": null,
   "metadata": {},
   "outputs": [],
   "source": []
  },
  {
   "cell_type": "code",
   "execution_count": null,
   "metadata": {},
   "outputs": [],
   "source": []
  },
  {
   "cell_type": "code",
   "execution_count": null,
   "metadata": {},
   "outputs": [],
   "source": []
  },
  {
   "cell_type": "code",
   "execution_count": null,
   "metadata": {},
   "outputs": [],
   "source": []
  }
 ],
 "metadata": {
  "kernelspec": {
   "display_name": "Python 3",
   "language": "python",
   "name": "python3"
  },
  "language_info": {
   "codemirror_mode": {
    "name": "ipython",
    "version": 3
   },
   "file_extension": ".py",
   "mimetype": "text/x-python",
   "name": "python",
   "nbconvert_exporter": "python",
   "pygments_lexer": "ipython3",
   "version": "3.6.9"
  }
 },
 "nbformat": 4,
 "nbformat_minor": 4
}
